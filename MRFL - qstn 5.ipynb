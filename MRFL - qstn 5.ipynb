{
 "cells": [
  {
   "cell_type": "code",
   "execution_count": 1,
   "id": "b269fa50",
   "metadata": {},
   "outputs": [
    {
     "name": "stdout",
     "output_type": "stream",
     "text": [
      "Sorted points based on the sum of elements in the tuples:\n",
      "(1, 2)\n",
      "(3, 1)\n",
      "(0, 7)\n",
      "(5, 3)\n"
     ]
    }
   ],
   "source": [
    "points = [(1, 2), (5, 3), (0, 7), (3, 1)]\n",
    "sorted_points = sorted(points, key=lambda x: x[0] + x[1])\n",
    "print(\"Sorted points based on the sum of elements in the tuples:\")\n",
    "for point in sorted_points:\n",
    "    print(point)"
   ]
  },
  {
   "cell_type": "code",
   "execution_count": null,
   "id": "1dc015cc",
   "metadata": {},
   "outputs": [],
   "source": []
  }
 ],
 "metadata": {
  "kernelspec": {
   "display_name": "Python 3 (ipykernel)",
   "language": "python",
   "name": "python3"
  },
  "language_info": {
   "codemirror_mode": {
    "name": "ipython",
    "version": 3
   },
   "file_extension": ".py",
   "mimetype": "text/x-python",
   "name": "python",
   "nbconvert_exporter": "python",
   "pygments_lexer": "ipython3",
   "version": "3.9.12"
  }
 },
 "nbformat": 4,
 "nbformat_minor": 5
}

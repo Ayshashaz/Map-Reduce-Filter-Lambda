{
 "cells": [
  {
   "cell_type": "code",
   "execution_count": 1,
   "id": "4231f015",
   "metadata": {},
   "outputs": [
    {
     "name": "stdout",
     "output_type": "stream",
     "text": [
      "Original list: [4, 3, 2, 2, -1, 18]\n",
      "Multiply all the numbers in the said list: -864\n"
     ]
    }
   ],
   "source": [
    "from functools import reduce\n",
    "list1 = [4, 3, 2, 2, -1, 18]\n",
    "product = reduce(lambda x, y: x*y, list1)\n",
    "print(\"Original list:\", list1)\n",
    "print(\"Multiply all the numbers in the said list:\", product)\n"
   ]
  },
  {
   "cell_type": "code",
   "execution_count": null,
   "id": "d3617f85",
   "metadata": {},
   "outputs": [],
   "source": []
  }
 ],
 "metadata": {
  "kernelspec": {
   "display_name": "Python 3 (ipykernel)",
   "language": "python",
   "name": "python3"
  },
  "language_info": {
   "codemirror_mode": {
    "name": "ipython",
    "version": 3
   },
   "file_extension": ".py",
   "mimetype": "text/x-python",
   "name": "python",
   "nbconvert_exporter": "python",
   "pygments_lexer": "ipython3",
   "version": "3.9.12"
  }
 },
 "nbformat": 4,
 "nbformat_minor": 5
}

{
 "cells": [
  {
   "cell_type": "code",
   "execution_count": 1,
   "id": "4a444e09",
   "metadata": {},
   "outputs": [
    {
     "name": "stdout",
     "output_type": "stream",
     "text": [
      "Height > 6ft and Weight > 70kg: {'Cierra Vega': (6.2, 71)}\n"
     ]
    }
   ],
   "source": [
    "students = {\n",
    "    'Cierra Vega': (6.2, 71),\n",
    "    'Alden Centrall': (5.9, 65),\n",
    "    'Kierra Gentry': (6.0, 68),\n",
    "    'Pierre Cox': (5.8, 66)\n",
    "}\n",
    "filtered_students = dict(filter(lambda item: item[1][0] > 6 and item[1][1] > 70, students.items()))\n",
    "print(f\"Height > 6ft and Weight > 70kg: {filtered_students}\")"
   ]
  },
  {
   "cell_type": "code",
   "execution_count": null,
   "id": "1f217206",
   "metadata": {},
   "outputs": [],
   "source": []
  }
 ],
 "metadata": {
  "kernelspec": {
   "display_name": "Python 3 (ipykernel)",
   "language": "python",
   "name": "python3"
  },
  "language_info": {
   "codemirror_mode": {
    "name": "ipython",
    "version": 3
   },
   "file_extension": ".py",
   "mimetype": "text/x-python",
   "name": "python",
   "nbconvert_exporter": "python",
   "pygments_lexer": "ipython3",
   "version": "3.9.12"
  }
 },
 "nbformat": 4,
 "nbformat_minor": 5
}

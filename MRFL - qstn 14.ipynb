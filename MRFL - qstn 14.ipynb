{
 "cells": [
  {
   "cell_type": "code",
   "execution_count": 1,
   "id": "cf7b9e80",
   "metadata": {},
   "outputs": [
    {
     "name": "stdout",
     "output_type": "stream",
     "text": [
      "Original tuple:\n",
      "((10, 10, 10), (30, 45, 56), (81, 80, 39), (1, 2, 3))\n",
      "Average value of the numbers of the said tuple of tuples:\n",
      "(30.5, 34.25, 27.0)\n"
     ]
    }
   ],
   "source": [
    "original_tuple = ((10, 10, 10), (30, 45, 56), (81, 80, 39), (1, 2, 3))\n",
    "grouped_elements = zip(*original_tuple)\n",
    "averages = tuple(map(lambda x: sum(x) / len(x), grouped_elements))\n",
    "print(\"Original tuple:\")\n",
    "print(original_tuple)\n",
    "print(\"Average value of the numbers of the said tuple of tuples:\")\n",
    "print(averages)"
   ]
  },
  {
   "cell_type": "code",
   "execution_count": null,
   "id": "16a4eb7a",
   "metadata": {},
   "outputs": [],
   "source": []
  }
 ],
 "metadata": {
  "kernelspec": {
   "display_name": "Python 3 (ipykernel)",
   "language": "python",
   "name": "python3"
  },
  "language_info": {
   "codemirror_mode": {
    "name": "ipython",
    "version": 3
   },
   "file_extension": ".py",
   "mimetype": "text/x-python",
   "name": "python",
   "nbconvert_exporter": "python",
   "pygments_lexer": "ipython3",
   "version": "3.9.12"
  }
 },
 "nbformat": 4,
 "nbformat_minor": 5
}

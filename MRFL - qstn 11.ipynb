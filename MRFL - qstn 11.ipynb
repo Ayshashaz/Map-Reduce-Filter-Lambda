{
 "cells": [
  {
   "cell_type": "code",
   "execution_count": 1,
   "id": "04ca632b",
   "metadata": {},
   "outputs": [
    {
     "name": "stdout",
     "output_type": "stream",
     "text": [
      "Original list1: [1, 2, 3, 4, 5, 6, 7, 8, 9, 10]\n",
      "Original list2: [2, 4, 6, 8]\n",
      "Modified elements present in list1 after removing all the elements present in list2: [1, 3, 5, 7, 9, 10]\n"
     ]
    }
   ],
   "source": [
    "list1 = [1, 2, 3, 4, 5, 6, 7, 8, 9, 10]\n",
    "list2 = [2, 4, 6, 8]\n",
    "result = list(filter(lambda x: x not in list2, list1 ))\n",
    "print(\"Original list1:\", list1)\n",
    "print(\"Original list2:\", list2)\n",
    "print(\"Modified elements present in list1 after removing all the elements present in list2:\", result)"
   ]
  },
  {
   "cell_type": "code",
   "execution_count": null,
   "id": "6d990894",
   "metadata": {},
   "outputs": [],
   "source": []
  }
 ],
 "metadata": {
  "kernelspec": {
   "display_name": "Python 3 (ipykernel)",
   "language": "python",
   "name": "python3"
  },
  "language_info": {
   "codemirror_mode": {
    "name": "ipython",
    "version": 3
   },
   "file_extension": ".py",
   "mimetype": "text/x-python",
   "name": "python",
   "nbconvert_exporter": "python",
   "pygments_lexer": "ipython3",
   "version": "3.9.12"
  }
 },
 "nbformat": 4,
 "nbformat_minor": 5
}

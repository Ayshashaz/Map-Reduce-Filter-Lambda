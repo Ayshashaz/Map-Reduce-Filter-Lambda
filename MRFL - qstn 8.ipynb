{
 "cells": [
  {
   "cell_type": "code",
   "execution_count": 1,
   "id": "0a1559cd",
   "metadata": {},
   "outputs": [
    {
     "name": "stdout",
     "output_type": "stream",
     "text": [
      "Uppercase: HELLO WORLD!\n",
      "Lowercase: hello world!\n",
      "No duplicates: Helo Wrd!\n"
     ]
    }
   ],
   "source": [
    "def to_uppercase(sequence):\n",
    "    return sequence.upper()\n",
    "\n",
    "def to_lowercase(sequence):\n",
    "    return sequence.lower()\n",
    "\n",
    "def eliminate_duplicates(sequence):\n",
    "    seen = set()\n",
    "    result = []\n",
    "    for char in sequence:\n",
    "        if char not in seen:\n",
    "            seen.add(char)\n",
    "            result.append(char)\n",
    "    return ''.join(result)\n",
    "\n",
    "def process_sequence(sequence):\n",
    "    \n",
    "    uppercase_sequence = ''.join(map(to_uppercase, sequence))\n",
    "    \n",
    "    \n",
    "    lowercase_sequence = ''.join(map(to_lowercase, sequence))\n",
    "    \n",
    "\n",
    "    no_duplicates_sequence = eliminate_duplicates(sequence)\n",
    "    \n",
    "    return uppercase_sequence, lowercase_sequence, no_duplicates_sequence\n",
    "\n",
    "\n",
    "sequence = \"Hello World!\"\n",
    "uppercase_seq, lowercase_seq, no_duplicates_seq = process_sequence(sequence)\n",
    "\n",
    "print(f\"Uppercase: {uppercase_seq}\")\n",
    "print(f\"Lowercase: {lowercase_seq}\")\n",
    "print(f\"No duplicates: {no_duplicates_seq}\")"
   ]
  },
  {
   "cell_type": "code",
   "execution_count": null,
   "id": "398a5ac3",
   "metadata": {},
   "outputs": [],
   "source": []
  }
 ],
 "metadata": {
  "kernelspec": {
   "display_name": "Python 3 (ipykernel)",
   "language": "python",
   "name": "python3"
  },
  "language_info": {
   "codemirror_mode": {
    "name": "ipython",
    "version": 3
   },
   "file_extension": ".py",
   "mimetype": "text/x-python",
   "name": "python",
   "nbconvert_exporter": "python",
   "pygments_lexer": "ipython3",
   "version": "3.9.12"
  }
 },
 "nbformat": 4,
 "nbformat_minor": 5
}

{
 "cells": [
  {
   "cell_type": "code",
   "execution_count": 1,
   "id": "2add2873",
   "metadata": {},
   "outputs": [
    {
     "name": "stdout",
     "output_type": "stream",
     "text": [
      "LETTERS 10\n",
      "DIGITS 3\n"
     ]
    }
   ],
   "source": [
    "def count_letters_and_digits(sentence):\n",
    "    letters = sum(char.isalpha() for char in sentence)\n",
    "    digits = sum(char.isdigit() for char in sentence)\n",
    "    return letters, digits\n",
    "\n",
    "sentence = \"hello world! 123\"\n",
    "letters, digits = count_letters_and_digits(sentence)\n",
    "print(f\"LETTERS {letters}\")\n",
    "print(f\"DIGITS {digits}\")"
   ]
  },
  {
   "cell_type": "code",
   "execution_count": null,
   "id": "650ac2a6",
   "metadata": {},
   "outputs": [],
   "source": []
  }
 ],
 "metadata": {
  "kernelspec": {
   "display_name": "Python 3 (ipykernel)",
   "language": "python",
   "name": "python3"
  },
  "language_info": {
   "codemirror_mode": {
    "name": "ipython",
    "version": 3
   },
   "file_extension": ".py",
   "mimetype": "text/x-python",
   "name": "python",
   "nbconvert_exporter": "python",
   "pygments_lexer": "ipython3",
   "version": "3.9.12"
  }
 },
 "nbformat": 4,
 "nbformat_minor": 5
}

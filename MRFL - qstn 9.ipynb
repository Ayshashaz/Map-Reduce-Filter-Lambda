{
 "cells": [
  {
   "cell_type": "code",
   "execution_count": 1,
   "id": "9710c6c3",
   "metadata": {},
   "outputs": [
    {
     "name": "stdout",
     "output_type": "stream",
     "text": [
      "Element-wise addition: [5, 5, 5, 5]\n",
      "Element-wise subtraction: [-3, -1, 1, 3]\n"
     ]
    }
   ],
   "source": [
    "def add_lists(list1, list2):\n",
    "    return list(map(lambda x, y: x + y, list1, list2))\n",
    "def subtract_lists(list1, list2):\n",
    "    return list(map(lambda x, y: x - y, list1, list2))\n",
    "\n",
    "list1 = [1,2,3,4]\n",
    "list2 = [4,3,2,1]\n",
    "added_list = add_lists(list1, list2)\n",
    "subtracted_list = subtract_lists(list1, list2)\n",
    "\n",
    "print(f\"Element-wise addition: {added_list}\")\n",
    "print(f\"Element-wise subtraction: {subtracted_list}\")"
   ]
  },
  {
   "cell_type": "code",
   "execution_count": null,
   "id": "54da27d1",
   "metadata": {},
   "outputs": [],
   "source": []
  }
 ],
 "metadata": {
  "kernelspec": {
   "display_name": "Python 3 (ipykernel)",
   "language": "python",
   "name": "python3"
  },
  "language_info": {
   "codemirror_mode": {
    "name": "ipython",
    "version": 3
   },
   "file_extension": ".py",
   "mimetype": "text/x-python",
   "name": "python",
   "nbconvert_exporter": "python",
   "pygments_lexer": "ipython3",
   "version": "3.9.12"
  }
 },
 "nbformat": 4,
 "nbformat_minor": 5
}
